{
 "cells": [
  {
   "cell_type": "code",
   "execution_count": 1,
   "metadata": {},
   "outputs": [],
   "source": [
    "import os\n",
    "import pandas as pd\n",
    "import numpy as np\n",
    "import librosa\n",
    "import soundfile as sf\n",
    "from audiomentations import Compose, AddGaussianNoise, TimeStretch, PitchShift, Shift"
   ]
  },
  {
   "cell_type": "code",
   "execution_count": 2,
   "metadata": {},
   "outputs": [],
   "source": [
    "# Define the audio augmentation pipeline\n",
    "augment = Compose([\n",
    "    AddGaussianNoise(min_amplitude=0.001, max_amplitude=0.015, p=0.5),\n",
    "    TimeStretch(min_rate=0.8, max_rate=1.25, p=0.5),\n",
    "    PitchShift(min_semitones=-4, max_semitones=4, p=0.5),\n",
    "    Shift(p=0.5),\n",
    "])"
   ]
  },
  {
   "cell_type": "code",
   "execution_count": null,
   "metadata": {},
   "outputs": [],
   "source": [
    "# Paths to data and CSV files\n",
    "DATA_PATH = \"data/\"\n",
    "TRAIN_CSV = DATA_PATH + \"train.csv\"\n",
    "    \n",
    "# Define the output directory for augmented audio\n",
    "AUGMENTED_DIR = os.path.join(DATA_PATH, \"augmented_audio\")\n",
    "OUTPUT_CSV = DATA_PATH + \"train_aug.csv\"\n",
    "sample_rate = 16000"
   ]
  },
  {
   "cell_type": "code",
   "execution_count": 26,
   "metadata": {},
   "outputs": [],
   "source": [
    "train_df = pd.read_csv(TRAIN_CSV)"
   ]
  },
  {
   "cell_type": "code",
   "execution_count": 27,
   "metadata": {},
   "outputs": [
    {
     "name": "stdout",
     "output_type": "stream",
     "text": [
      "Processed 1000 files. Augmented file saved: data/augmented_audio/train_999_aug.wav\n",
      "Processed 2000 files. Augmented file saved: data/augmented_audio/train_1999_aug.wav\n",
      "Processed 3000 files. Augmented file saved: data/augmented_audio/train_2999_aug.wav\n",
      "Processed 4000 files. Augmented file saved: data/augmented_audio/train_3999_aug.wav\n",
      "Processed 5000 files. Augmented file saved: data/augmented_audio/train_4999_aug.wav\n",
      "Processed 6000 files. Augmented file saved: data/augmented_audio/train_5999_aug.wav\n"
     ]
    }
   ],
   "source": [
    "for i, row in train_df.iterrows():\n",
    "\tfile_path = os.path.join(DATA_PATH, row[\"file\"])\n",
    "\t# print(file_path)\n",
    "\t# output_path = AUGMENTED_DIR + \"/\"\n",
    "\t# print(output_path)\n",
    "    \n",
    "\tsamples, sr = librosa.load(file_path, sr=sample_rate)\n",
    "\taugmented_samples = augment(samples=samples, sample_rate=sample_rate)\n",
    "\n",
    "\tbase_name, ext = os.path.splitext(row['file'])\n",
    "\tbase_name = base_name.split(\"geo/\")[1]\n",
    "\toutput_file = f\"{base_name}_aug{ext}\"\n",
    "\t# print(output_file)\n",
    "\toutput_path = os.path.join(AUGMENTED_DIR, output_file)\n",
    "\t# print(output_path)\n",
    "\tsf.write(output_path, augmented_samples, sample_rate)\n",
    "\n",
    "\t# Print every 1000 files processed\n",
    "\tif (i + 1) % 1000 == 0:  # `i + 1` because `i` starts at 0\n",
    "\t\tprint(f\"Processed {i + 1} files. Augmented file saved: {output_path}\")"
   ]
  },
  {
   "cell_type": "code",
   "execution_count": 28,
   "metadata": {},
   "outputs": [],
   "source": [
    "augmented_files = []\n",
    "for file in os.listdir(AUGMENTED_DIR):\n",
    "    if file.endswith(\".wav\"):  # Adjust file extension if necessary\n",
    "        augmented_files.append(file)"
   ]
  },
  {
   "cell_type": "code",
   "execution_count": 31,
   "metadata": {},
   "outputs": [
    {
     "data": {
      "text/plain": [
       "6000"
      ]
     },
     "execution_count": 31,
     "metadata": {},
     "output_type": "execute_result"
    }
   ],
   "source": [
    "len(augmented_files)"
   ]
  },
  {
   "cell_type": "code",
   "execution_count": 61,
   "metadata": {},
   "outputs": [],
   "source": [
    "augmented_labels = []\n",
    "\n",
    "\n",
    "for file in augmented_files:\n",
    "    # print(file)\n",
    "    base_name = \"geo/\" + file.replace('_aug', '')\n",
    "    # print(base_name)\n",
    "    \n",
    "    # Find the original file's label\n",
    "    original_label = train_df[train_df['file'] == base_name]['transcript']\n",
    "    augmented_labels.append(original_label.values[0])\n",
    "    # print(original_label.values[0])\n",
    "    "
   ]
  },
  {
   "cell_type": "code",
   "execution_count": 72,
   "metadata": {},
   "outputs": [],
   "source": [
    "# Create a DataFrame for augmented files\n",
    "import os.path\n",
    "\n",
    "\n",
    "df_augmented = pd.DataFrame({\n",
    "    'file': [os.path.join(\"augmented_audio\", file) for file in augmented_files],\n",
    "    'transcript': augmented_labels\n",
    "})"
   ]
  },
  {
   "cell_type": "code",
   "execution_count": 73,
   "metadata": {},
   "outputs": [
    {
     "data": {
      "text/html": [
       "<div>\n",
       "<style scoped>\n",
       "    .dataframe tbody tr th:only-of-type {\n",
       "        vertical-align: middle;\n",
       "    }\n",
       "\n",
       "    .dataframe tbody tr th {\n",
       "        vertical-align: top;\n",
       "    }\n",
       "\n",
       "    .dataframe thead th {\n",
       "        text-align: right;\n",
       "    }\n",
       "</style>\n",
       "<table border=\"1\" class=\"dataframe\">\n",
       "  <thead>\n",
       "    <tr style=\"text-align: right;\">\n",
       "      <th></th>\n",
       "      <th>file</th>\n",
       "      <th>transcript</th>\n",
       "    </tr>\n",
       "  </thead>\n",
       "  <tbody>\n",
       "    <tr>\n",
       "      <th>0</th>\n",
       "      <td>augmented_audio/train_0_aug.wav</td>\n",
       "      <td>dangon pro la sukisto</td>\n",
       "    </tr>\n",
       "    <tr>\n",
       "      <th>1</th>\n",
       "      <td>augmented_audio/train_1_aug.wav</td>\n",
       "      <td>ja igzestas gilgaj opiroj plini in ispiranto</td>\n",
       "    </tr>\n",
       "    <tr>\n",
       "      <th>2</th>\n",
       "      <td>augmented_audio/train_2_aug.wav</td>\n",
       "      <td>roles pluraj vagtoroj gilkaj ple sireozaj ol a...</td>\n",
       "    </tr>\n",
       "    <tr>\n",
       "      <th>3</th>\n",
       "      <td>augmented_audio/train_3_aug.wav</td>\n",
       "      <td>teutimpi multaj rusaj pintrestoj gaj gomponest...</td>\n",
       "    </tr>\n",
       "    <tr>\n",
       "      <th>4</th>\n",
       "      <td>augmented_audio/train_4_aug.wav</td>\n",
       "      <td>gun sea dua idzo carlos thompson ŝe fefes ĉivi...</td>\n",
       "    </tr>\n",
       "    <tr>\n",
       "      <th>5</th>\n",
       "      <td>augmented_audio/train_5_aug.wav</td>\n",
       "      <td>teo ogazas in la vranca etala hespana kirmana ...</td>\n",
       "    </tr>\n",
       "    <tr>\n",
       "      <th>6</th>\n",
       "      <td>augmented_audio/train_6_aug.wav</td>\n",
       "      <td>me ni gulpas pre teo</td>\n",
       "    </tr>\n",
       "    <tr>\n",
       "      <th>7</th>\n",
       "      <td>augmented_audio/train_7_aug.wav</td>\n",
       "      <td>teo istas por me triiki entirisa</td>\n",
       "    </tr>\n",
       "    <tr>\n",
       "      <th>8</th>\n",
       "      <td>augmented_audio/train_8_aug.wav</td>\n",
       "      <td>la akado ogazas ĉi la gaspea maro gaj cintra azeo</td>\n",
       "    </tr>\n",
       "    <tr>\n",
       "      <th>9</th>\n",
       "      <td>augmented_audio/train_9_aug.wav</td>\n",
       "      <td>ni deras la senjoreno gapsguanti ni me ni parolos</td>\n",
       "    </tr>\n",
       "  </tbody>\n",
       "</table>\n",
       "</div>"
      ],
      "text/plain": [
       "                              file  \\\n",
       "0  augmented_audio/train_0_aug.wav   \n",
       "1  augmented_audio/train_1_aug.wav   \n",
       "2  augmented_audio/train_2_aug.wav   \n",
       "3  augmented_audio/train_3_aug.wav   \n",
       "4  augmented_audio/train_4_aug.wav   \n",
       "5  augmented_audio/train_5_aug.wav   \n",
       "6  augmented_audio/train_6_aug.wav   \n",
       "7  augmented_audio/train_7_aug.wav   \n",
       "8  augmented_audio/train_8_aug.wav   \n",
       "9  augmented_audio/train_9_aug.wav   \n",
       "\n",
       "                                          transcript  \n",
       "0                              dangon pro la sukisto  \n",
       "1       ja igzestas gilgaj opiroj plini in ispiranto  \n",
       "2  roles pluraj vagtoroj gilkaj ple sireozaj ol a...  \n",
       "3  teutimpi multaj rusaj pintrestoj gaj gomponest...  \n",
       "4  gun sea dua idzo carlos thompson ŝe fefes ĉivi...  \n",
       "5  teo ogazas in la vranca etala hespana kirmana ...  \n",
       "6                               me ni gulpas pre teo  \n",
       "7                   teo istas por me triiki entirisa  \n",
       "8  la akado ogazas ĉi la gaspea maro gaj cintra azeo  \n",
       "9  ni deras la senjoreno gapsguanti ni me ni parolos  "
      ]
     },
     "execution_count": 73,
     "metadata": {},
     "output_type": "execute_result"
    }
   ],
   "source": [
    "df_augmented.head(10)"
   ]
  },
  {
   "cell_type": "code",
   "execution_count": 74,
   "metadata": {},
   "outputs": [],
   "source": [
    "df_combined = pd.concat([train_df, df_augmented], ignore_index=True)\n"
   ]
  },
  {
   "cell_type": "code",
   "execution_count": 75,
   "metadata": {},
   "outputs": [],
   "source": [
    "# shuffle\n",
    "df_combined = df_combined.sample(frac=1, random_state=42).reset_index(drop=True)"
   ]
  },
  {
   "cell_type": "code",
   "execution_count": 76,
   "metadata": {},
   "outputs": [
    {
     "data": {
      "text/html": [
       "<div>\n",
       "<style scoped>\n",
       "    .dataframe tbody tr th:only-of-type {\n",
       "        vertical-align: middle;\n",
       "    }\n",
       "\n",
       "    .dataframe tbody tr th {\n",
       "        vertical-align: top;\n",
       "    }\n",
       "\n",
       "    .dataframe thead th {\n",
       "        text-align: right;\n",
       "    }\n",
       "</style>\n",
       "<table border=\"1\" class=\"dataframe\">\n",
       "  <thead>\n",
       "    <tr style=\"text-align: right;\">\n",
       "      <th></th>\n",
       "      <th>file</th>\n",
       "      <th>transcript</th>\n",
       "    </tr>\n",
       "  </thead>\n",
       "  <tbody>\n",
       "    <tr>\n",
       "      <th>0</th>\n",
       "      <td>geo/train_1935.wav</td>\n",
       "      <td>ŝe istas tri populara in tajfano</td>\n",
       "    </tr>\n",
       "    <tr>\n",
       "      <th>1</th>\n",
       "      <td>augmented_audio/train_494_aug.wav</td>\n",
       "      <td>la unusola sfilta turo istas mizi gei istas su...</td>\n",
       "    </tr>\n",
       "    <tr>\n",
       "      <th>2</th>\n",
       "      <td>geo/train_1720.wav</td>\n",
       "      <td>plui aleaj ambecioj jam di lonki enstikas mean...</td>\n",
       "    </tr>\n",
       "    <tr>\n",
       "      <th>3</th>\n",
       "      <td>augmented_audio/train_3120_aug.wav</td>\n",
       "      <td>ĉu sifiri</td>\n",
       "    </tr>\n",
       "    <tr>\n",
       "      <th>4</th>\n",
       "      <td>geo/train_360.wav</td>\n",
       "      <td>sur la ple granda me fedes nineon grom sablo</td>\n",
       "    </tr>\n",
       "    <tr>\n",
       "      <th>...</th>\n",
       "      <td>...</td>\n",
       "      <td>...</td>\n",
       "    </tr>\n",
       "    <tr>\n",
       "      <th>11995</th>\n",
       "      <td>augmented_audio/train_5964_aug.wav</td>\n",
       "      <td>tamin la ditalojn poste</td>\n",
       "    </tr>\n",
       "    <tr>\n",
       "      <th>11996</th>\n",
       "      <td>geo/train_5191.wav</td>\n",
       "      <td>sangta domenko hafas endustreajn branĉojn pre ...</td>\n",
       "    </tr>\n",
       "    <tr>\n",
       "      <th>11997</th>\n",
       "      <td>geo/train_5390.wav</td>\n",
       "      <td>aparti la polico mortekes protistanton dum tum...</td>\n",
       "    </tr>\n",
       "    <tr>\n",
       "      <th>11998</th>\n",
       "      <td>geo/train_860.wav</td>\n",
       "      <td>ruvus iggomprines</td>\n",
       "    </tr>\n",
       "    <tr>\n",
       "      <th>11999</th>\n",
       "      <td>augmented_audio/train_1270_aug.wav</td>\n",
       "      <td>malsananti me difes vorere gun mea pavelo por ...</td>\n",
       "    </tr>\n",
       "  </tbody>\n",
       "</table>\n",
       "<p>12000 rows × 2 columns</p>\n",
       "</div>"
      ],
      "text/plain": [
       "                                     file  \\\n",
       "0                      geo/train_1935.wav   \n",
       "1       augmented_audio/train_494_aug.wav   \n",
       "2                      geo/train_1720.wav   \n",
       "3      augmented_audio/train_3120_aug.wav   \n",
       "4                       geo/train_360.wav   \n",
       "...                                   ...   \n",
       "11995  augmented_audio/train_5964_aug.wav   \n",
       "11996                  geo/train_5191.wav   \n",
       "11997                  geo/train_5390.wav   \n",
       "11998                   geo/train_860.wav   \n",
       "11999  augmented_audio/train_1270_aug.wav   \n",
       "\n",
       "                                              transcript  \n",
       "0                       ŝe istas tri populara in tajfano  \n",
       "1      la unusola sfilta turo istas mizi gei istas su...  \n",
       "2      plui aleaj ambecioj jam di lonki enstikas mean...  \n",
       "3                                              ĉu sifiri  \n",
       "4           sur la ple granda me fedes nineon grom sablo  \n",
       "...                                                  ...  \n",
       "11995                            tamin la ditalojn poste  \n",
       "11996  sangta domenko hafas endustreajn branĉojn pre ...  \n",
       "11997  aparti la polico mortekes protistanton dum tum...  \n",
       "11998                                  ruvus iggomprines  \n",
       "11999  malsananti me difes vorere gun mea pavelo por ...  \n",
       "\n",
       "[12000 rows x 2 columns]"
      ]
     },
     "execution_count": 76,
     "metadata": {},
     "output_type": "execute_result"
    }
   ],
   "source": [
    "df_combined"
   ]
  },
  {
   "cell_type": "code",
   "execution_count": 77,
   "metadata": {},
   "outputs": [],
   "source": [
    "# save the combined to csv\n",
    "df_combined.to_csv('data/train_aug.csv', index=False)"
   ]
  },
  {
   "cell_type": "code",
   "execution_count": null,
   "metadata": {},
   "outputs": [],
   "source": []
  }
 ],
 "metadata": {
  "kernelspec": {
   "display_name": "ASRw2v2",
   "language": "python",
   "name": "python3"
  },
  "language_info": {
   "codemirror_mode": {
    "name": "ipython",
    "version": 3
   },
   "file_extension": ".py",
   "mimetype": "text/x-python",
   "name": "python",
   "nbconvert_exporter": "python",
   "pygments_lexer": "ipython3",
   "version": "3.10.15"
  }
 },
 "nbformat": 4,
 "nbformat_minor": 2
}
